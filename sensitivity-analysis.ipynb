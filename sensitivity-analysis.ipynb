{
 "cells": [
  {
   "cell_type": "code",
   "execution_count": 1,
   "id": "9024a8d6",
   "metadata": {},
   "outputs": [
    {
     "name": "stdout",
     "output_type": "stream",
     "text": [
      "40\n"
     ]
    }
   ],
   "source": [
    "import os\n",
    "import time\n",
    "import pickle\n",
    "import numpy as np\n",
    "import pandas as pd\n",
    "from model import Schelling\n",
    "from SALib.sample import saltelli\n",
    "\n",
    "exp_path = 'gsa-schelling-radius-05-10-2022'\n",
    "\n",
    "# Create folder structure\n",
    "if not os.path.exists(exp_path):\n",
    "    os.makedirs(exp_path)\n",
    "    \n",
    "if not os.path.exists(exp_path + '/data'):\n",
    "    os.makedirs(exp_path + '/data')\n",
    "\n",
    "print(os.cpu_count())"
   ]
  },
  {
   "cell_type": "code",
   "execution_count": 2,
   "id": "f5187d9e",
   "metadata": {},
   "outputs": [
    {
     "name": "stdout",
     "output_type": "stream",
     "text": [
      "32768 {'density': 0.50032958984375, 'minority_pc': 0.64117431640625, 'mu1': 0.734130859375, 'std1': 0.14936523437500002, 'mu2': 0.319580078125, 'std2': 0.147119140625, 'radius': 5, 'filename': 'gsa-schelling-radius-05-10-2022/data/file0', 'height': 100, 'width': 100, 'move_fraction': 0.15, 'mode': 'Heterogeneous', 'std': 0.02, 'homophily': 0.3, 'torus': True, 'max_steps': 300, 'window_size': 30, 'conv_threshold': 0.01}\n"
     ]
    }
   ],
   "source": [
    "n_samples = 2048\n",
    "calc_sec_order = True\n",
    "var_params = {\n",
    "                'density':{'bounds':[0.5, 0.95],'label':'Density'},\n",
    "                'minority_pc':{'bounds':[0.5, 0.95],'label':'%Blue'},\n",
    "                'mu1':{'bounds':[0, 1],'label':'Mean homophily (blue)'},\n",
    "                'std1':{'bounds':[0, 0.2],'label':'Std. homophily (blue)'},\n",
    "                'mu2':{'bounds':[0, 1],'label':'Mean homophily (orange)'},\n",
    "                'std2':{'bounds':[0, 0.2],'label':'Std. homophily (orange)'},\n",
    "                'radius':{'bounds':[0, 5], 'label':'Radius'}\n",
    "            }\n",
    "names = list(var_params.keys())\n",
    "bounds = [par['bounds'] for par in var_params.values()]\n",
    "\n",
    "problem = {'num_vars': len(names), 'names': names, 'bounds': bounds}\n",
    "par_values = saltelli.sample(problem, n_samples, calc_sec_order)\n",
    "\n",
    "# Fixed parameters\n",
    "par_frame = pd.DataFrame(columns=names, data=par_values)\n",
    "par_frame['radius'] = par_frame['radius'].apply(np.ceil).astype(int)\n",
    "fixed_params = {'height':100, 'width':100, 'move_fraction':0.15,\n",
    "                'mode':'Heterogeneous', 'std':0.02,\n",
    "                'homophily':0.3, 'torus':True, 'max_steps':300,\n",
    "                'window_size':30, 'conv_threshold':0.01}\n",
    "par_frame['filename'] = [exp_path + '/data/file' + str(i) for i in range(par_values.shape[0])]\n",
    "\n",
    "# Add the fixed parameters to the frame\n",
    "for fixed_par, value in fixed_params.items():\n",
    "    par_frame[fixed_par] = value\n",
    "\n",
    "dask_list = list(par_frame.T.to_dict().values())\n",
    "print(len(dask_list), dask_list[0])"
   ]
  },
  {
   "cell_type": "code",
   "execution_count": 3,
   "id": "720a00b7",
   "metadata": {
    "scrolled": false
   },
   "outputs": [],
   "source": [
    "import dask\n",
    "from dask.diagnostics import ProgressBar\n",
    "\n",
    "@dask.delayed\n",
    "def simulator(pars):\n",
    "    \"\"\"Perform a single model run.\"\"\"\n",
    "    model = Schelling(pars=pars)\n",
    "    model.simulate(export=False)\n",
    "    return (model.avg_fraction_sim, model.fraction_sat_1, \n",
    "            model.fraction_sat_2, model.convergence_metric[-1])\n",
    "\n",
    "results = []\n",
    "for pars in dask_list:\n",
    "    model_run = simulator(pars)\n",
    "    results.append(model_run)"
   ]
  },
  {
   "cell_type": "code",
   "execution_count": 4,
   "id": "e8666e3a",
   "metadata": {},
   "outputs": [],
   "source": [
    "pbar = ProgressBar()\n",
    "pbar.register()"
   ]
  },
  {
   "cell_type": "code",
   "execution_count": 5,
   "id": "1bcb7ccf",
   "metadata": {
    "scrolled": true
   },
   "outputs": [
    {
     "name": "stdout",
     "output_type": "stream",
     "text": [
      "[###                                     ] | 9% Completed | 12m 53sss"
     ]
    },
    {
     "name": "stderr",
     "output_type": "stream",
     "text": [
      "IOPub message rate exceeded.\n",
      "The notebook server will temporarily stop sending output\n",
      "to the client in order to avoid crashing it.\n",
      "To change this limit, set the config variable\n",
      "`--NotebookApp.iopub_msg_rate_limit`.\n",
      "\n",
      "Current values:\n",
      "NotebookApp.iopub_msg_rate_limit=1000.0 (msgs/sec)\n",
      "NotebookApp.rate_limit_window=3.0 (secs)\n",
      "\n"
     ]
    },
    {
     "name": "stdout",
     "output_type": "stream",
     "text": [
      "[####################################    ] | 90% Completed | 113m 46s"
     ]
    },
    {
     "name": "stderr",
     "output_type": "stream",
     "text": [
      "IOPub message rate exceeded.\n",
      "The notebook server will temporarily stop sending output\n",
      "to the client in order to avoid crashing it.\n",
      "To change this limit, set the config variable\n",
      "`--NotebookApp.iopub_msg_rate_limit`.\n",
      "\n",
      "Current values:\n",
      "NotebookApp.iopub_msg_rate_limit=1000.0 (msgs/sec)\n",
      "NotebookApp.rate_limit_window=3.0 (secs)\n",
      "\n"
     ]
    },
    {
     "name": "stdout",
     "output_type": "stream",
     "text": [
      "[######################################  ] | 97% Completed | 2hr 2m9s"
     ]
    },
    {
     "name": "stderr",
     "output_type": "stream",
     "text": [
      "IOPub message rate exceeded.\n",
      "The notebook server will temporarily stop sending output\n",
      "to the client in order to avoid crashing it.\n",
      "To change this limit, set the config variable\n",
      "`--NotebookApp.iopub_msg_rate_limit`.\n",
      "\n",
      "Current values:\n",
      "NotebookApp.iopub_msg_rate_limit=1000.0 (msgs/sec)\n",
      "NotebookApp.rate_limit_window=3.0 (secs)\n",
      "\n"
     ]
    }
   ],
   "source": [
    "final_res = dask.compute(results, scheduler='processes', num_workers=40)"
   ]
  },
  {
   "cell_type": "code",
   "execution_count": 6,
   "id": "016e4f8c",
   "metadata": {
    "scrolled": false
   },
   "outputs": [],
   "source": [
    "pbar.unregister()"
   ]
  },
  {
   "cell_type": "code",
   "execution_count": 7,
   "id": "8ca56bd8",
   "metadata": {},
   "outputs": [],
   "source": [
    "par_frame[['avg_fraction_sim', 'fraction_sat_1', 'fraction_sat_2', 'fraction_sat']] = final_res[0]"
   ]
  },
  {
   "cell_type": "code",
   "execution_count": 8,
   "id": "006b7873",
   "metadata": {},
   "outputs": [],
   "source": [
    "par_frame.to_pickle(exp_path + '/data/frame.pkl')\n",
    "with open(f'{exp_path}/problem.pickle', 'wb') as handle:\n",
    "    pickle.dump(problem, handle, protocol=4)"
   ]
  },
  {
   "cell_type": "code",
   "execution_count": null,
   "id": "de3b66f1",
   "metadata": {},
   "outputs": [],
   "source": []
  }
 ],
 "metadata": {
  "kernelspec": {
   "display_name": "Python 3 (ipykernel)",
   "language": "python",
   "name": "python3"
  },
  "language_info": {
   "codemirror_mode": {
    "name": "ipython",
    "version": 3
   },
   "file_extension": ".py",
   "mimetype": "text/x-python",
   "name": "python",
   "nbconvert_exporter": "python",
   "pygments_lexer": "ipython3",
   "version": "3.9.7"
  }
 },
 "nbformat": 4,
 "nbformat_minor": 5
}
