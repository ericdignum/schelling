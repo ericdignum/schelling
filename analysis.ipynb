{
 "cells": [
  {
   "cell_type": "code",
   "execution_count": 1,
   "metadata": {},
   "outputs": [
    {
     "name": "stderr",
     "output_type": "stream",
     "text": [
      "C:\\Users\\edignum\\.virtualenvs\\compassproject-OUBZ_QZN\\lib\\site-packages\\geopandas\\_compat.py:112: UserWarning: The Shapely GEOS version (3.10.2-CAPI-1.16.0) is incompatible with the GEOS version PyGEOS was compiled with (3.10.1-CAPI-1.16.0). Conversions between both will be slow.\n",
      "  warnings.warn(\n"
     ]
    }
   ],
   "source": [
    "import numpy as np\n",
    "import pandas as pd\n",
    "import seaborn as sns\n",
    "import matplotlib.pyplot as plt\n",
    "\n",
    "%matplotlib inline\n",
    "\n",
    "from model import Schelling"
   ]
  },
  {
   "cell_type": "code",
   "execution_count": null,
   "metadata": {},
   "outputs": [],
   "source": [
    "%%timeit\n",
    "model = Schelling(width=100, \n",
    "                    height=100, density=0.9, \n",
    "                    mode='homogeneous', mu1=0.6, std1=0.01,\n",
    "                    minority_pc=0.5, \n",
    "                    window_size=30, conv_threshold=0.0)\n",
    "for _ in range(100):\n",
    "    model.step()\n",
    "# print(model.schedule.steps)  # Show how many steps have actually ran"
   ]
  },
  {
   "cell_type": "code",
   "execution_count": null,
   "metadata": {},
   "outputs": [],
   "source": [
    "model = Schelling(mode='Homogeneous',\n",
    "            width=80, height=80, \n",
    "            density=0.9,\n",
    "            max_steps=500, \n",
    "            minority_pc=0.5, \n",
    "            homophily=0.3,\n",
    "            window_size=30, \n",
    "            conv_threshold=0.01,\n",
    "            torus=True, \n",
    "            radius=1,\n",
    "            mu1=1, \n",
    "            std1=1,\n",
    "            mu2=1, \n",
    "            std2=1\n",
    "        )\n",
    "model.simulate()\n",
    "model_out = model.datacollector.get_model_vars_dataframe()"
   ]
  },
  {
   "cell_type": "code",
   "execution_count": null,
   "metadata": {},
   "outputs": [],
   "source": [
    "model_out.head()"
   ]
  },
  {
   "cell_type": "code",
   "execution_count": null,
   "metadata": {},
   "outputs": [],
   "source": [
    "params = {\"height\": 100, \"width\": 100, \n",
    "          \"density\": 0.8,\n",
    "          'move_fraction':0.1,\n",
    "          \"minority_pc\": 0.5, \n",
    "          'mode':'Homogeneous',\n",
    "          \"mu1\": np.arange(0, 0.8, 0.05),\n",
    "          \"std1\": [0, 0.02, 0.05, 0.1, 0.2],\n",
    "          \"radius\": [1, 2, 3],\n",
    "#           'mode':'Heterogeneous',\n",
    "#           'radius':1,\n",
    "#           'mu1':[0.25, 0.5, 1, 3, 5, 7], 'std1':[0.25, 0.5, 1, 3, 5, 7],\n",
    "#           'mu2':[0.25, 0.5, 1, 3, 5, 7], 'std2':[0.25, 0.5, 1, 3, 5, 7],\n",
    "         }\n",
    "\n",
    "from mesa.batchrunner import batch_run\n",
    "from multiprocessing import freeze_support\n",
    "if __name__ == '__main__':\n",
    "    freeze_support()\n",
    "    hom_param_sweep = batch_run(\n",
    "            Schelling,\n",
    "            parameters=params,\n",
    "            iterations=5,\n",
    "            max_steps=200,\n",
    "            number_processes=None,\n",
    "            data_collection_period=-1,\n",
    "            display_progress=True,\n",
    "    )"
   ]
  },
  {
   "cell_type": "code",
   "execution_count": null,
   "metadata": {
    "scrolled": false
   },
   "outputs": [],
   "source": [
    "hom_results = pd.DataFrame(hom_param_sweep)\n",
    "hom_results.head()\n",
    "\n",
    "g = sns.relplot(\n",
    "    data=hom_results,\n",
    "    x=\"mu1\", y=\"Avg fraction similar\",\n",
    "    hue=\"radius\", col=\"std1\",\n",
    "    kind=\"line\", col_wrap=3,\n",
    "    height=4, aspect=1, \n",
    "    facet_kws=dict(sharex=False),\n",
    ")\n",
    "g.set(ylim=(0.5, 1))\n",
    "g.fig.subplots_adjust(top=0.9)\n",
    "g.fig.suptitle('Schelling model, two groups (equal values)', size=20)\n",
    "plt.show()"
   ]
  },
  {
   "cell_type": "code",
   "execution_count": null,
   "metadata": {},
   "outputs": [],
   "source": [
    "# params = {\"height\": 50, \"width\": 50, \"density\": 0.8, \n",
    "#           \"minority_pc\": 0.5, \n",
    "#           'mode':'Heterogeneous',\n",
    "#           'radius':1,\n",
    "#           'mu1':[0.25, 0.5, 1, 3, 5, 7], 'std1':[0.25, 0.5, 1, 3, 5, 7],\n",
    "#           'mu2':[0.25, 0.5, 1, 3, 5, 7], 'std2':[0.25, 0.5, 1, 3, 5, 7],\n",
    "#          }\n",
    "\n",
    "# from mesa.batchrunner import batch_run\n",
    "# from multiprocessing import freeze_support\n",
    "# if __name__ == '__main__':\n",
    "#     freeze_support()\n",
    "#     param_sweep = batch_run(\n",
    "#             Schelling,\n",
    "#             parameters=params,\n",
    "#             iterations=10,\n",
    "#             max_steps=200,\n",
    "#             number_processes=None,\n",
    "#             data_collection_period=-1,\n",
    "#             display_progress=True,\n",
    "#     )"
   ]
  },
  {
   "cell_type": "code",
   "execution_count": null,
   "metadata": {},
   "outputs": [],
   "source": [
    "# results = pd.DataFrame(param_sweep)\n",
    "# results.head()"
   ]
  },
  {
   "cell_type": "code",
   "execution_count": null,
   "metadata": {
    "scrolled": false
   },
   "outputs": [],
   "source": [
    "# for a_g2 in results['mu2'].unique():\n",
    "#     for b_g2 in results['std2'].unique():\n",
    "#         plt.figure(figsize=(10, 5))\n",
    "#         filtered = results[np.isclose(results['mu2'], a_g2) & np.isclose(results['std2'], b_g2)]\n",
    "#         _ = sns.lineplot(data=filtered, x=\"mu1\", \n",
    "#                          y=\"Avg fraction similar\", hue=\"std1\")\n",
    "#         plt.suptitle('mu2: ' + str(a_g2) + ', ' + 'std2: ' + str(b_g2))\n",
    "#         plt.ylim((0.5, 1.))\n",
    "#         plt.show()"
   ]
  },
  {
   "cell_type": "code",
   "execution_count": null,
   "metadata": {},
   "outputs": [],
   "source": []
  }
 ],
 "metadata": {
  "kernelspec": {
   "display_name": "Python 3 (ipykernel)",
   "language": "python",
   "name": "python3"
  },
  "language_info": {
   "codemirror_mode": {
    "name": "ipython",
    "version": 3
   },
   "file_extension": ".py",
   "mimetype": "text/x-python",
   "name": "python",
   "nbconvert_exporter": "python",
   "pygments_lexer": "ipython3",
   "version": "3.9.7"
  },
  "widgets": {
   "state": {},
   "version": "1.1.2"
  }
 },
 "nbformat": 4,
 "nbformat_minor": 1
}
