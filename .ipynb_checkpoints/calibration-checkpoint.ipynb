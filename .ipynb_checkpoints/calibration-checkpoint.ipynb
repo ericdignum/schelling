{
 "cells": [
  {
   "cell_type": "code",
   "execution_count": 1,
   "id": "d7d820fc",
   "metadata": {},
   "outputs": [],
   "source": [
    "import torch\n",
    "import numpy as np\n",
    "import pandas as pd\n",
    "from segregation.local import MultiLocalDiversity, MultiLocalEntropy\n",
    "\n",
    "# visualization\n",
    "import seaborn as sns\n",
    "import matplotlib as mpl\n",
    "import matplotlib.pyplot as plt\n",
    "\n",
    "# sbi\n",
    "from sbi import utils as utils\n",
    "from sbi import analysis as analysis\n",
    "from sbi.inference.base import infer\n",
    "from sbi.utils.get_nn_models import posterior_nn\n",
    "from sbi.inference import (SNPE, SNLE, SNRE, \n",
    "                           prepare_for_sbi, \n",
    "                           simulate_for_sbi,\n",
    "                           SMCABC)\n",
    "\n",
    "# schelling\n",
    "from model import Schelling"
   ]
  },
  {
   "cell_type": "code",
   "execution_count": 8,
   "id": "59daa9c4",
   "metadata": {
    "scrolled": false
   },
   "outputs": [],
   "source": [
    "def simulator(par_values):\n",
    "    pars={\n",
    "    'width':80, \n",
    "    'height':80, \n",
    "    'density':0.9,\n",
    "    'max_steps':100, \n",
    "    'mode':'Heterogeneous',\n",
    "    'minority_pc':0.5, \n",
    "    'window_size':30, \n",
    "    'conv_threshold':0.01,\n",
    "    'radius':1, \n",
    "    'torus':True,\n",
    "    'move_fraction':0.15,\n",
    "    'filename':'test.npz',\n",
    "    'std1':0,\n",
    "    'std2':0\n",
    "    }\n",
    "\n",
    "    pars['mu1'], pars['mu2'] = par_values\n",
    "#     pars['mu1'], pars['std1'], pars['mu2'], pars['std2'] = par_values\n",
    "    model = Schelling(pars)\n",
    "    model.simulate()\n",
    "    compositions = model.calc_neighbourhood_compositions(n=8)\n",
    "    groups = ['group' + str(i) for i in range(2)]\n",
    "    frame = pd.DataFrame(compositions, columns=groups)\n",
    "    contributions = MultiLocalEntropy(data=frame, groups=groups).statistics\n",
    "    return torch.as_tensor(sorted(contributions))\n",
    "#     return torch.as_tensor([model.avg_fraction_sim])"
   ]
  },
  {
   "cell_type": "code",
   "execution_count": 9,
   "id": "802044b4",
   "metadata": {
    "scrolled": false
   },
   "outputs": [
    {
     "data": {
      "text/plain": [
       "tensor([0.2730, 0.4980, 0.5564, 0.6072, 0.7007, 0.7287, 0.7608, 0.7973, 0.8113,\n",
       "        0.8302, 0.8329, 0.8432, 0.8564, 0.8600, 0.8767, 0.8813, 0.8936, 0.8987,\n",
       "        0.9052, 0.9124, 0.9124, 0.9183, 0.9299, 0.9341, 0.9348, 0.9444, 0.9468,\n",
       "        0.9471, 0.9526, 0.9529, 0.9576, 0.9629, 0.9647, 0.9647, 0.9687, 0.9689,\n",
       "        0.9728, 0.9751, 0.9751, 0.9769, 0.9784, 0.9799, 0.9799, 0.9819, 0.9841,\n",
       "        0.9852, 0.9862, 0.9862, 0.9862, 0.9898, 0.9898, 0.9928, 0.9944, 0.9948,\n",
       "        0.9980, 0.9981, 0.9981, 0.9988, 0.9991, 0.9991, 0.9991, 0.9998, 0.9998,\n",
       "        0.9998], dtype=torch.float64)"
      ]
     },
     "execution_count": 9,
     "metadata": {},
     "output_type": "execute_result"
    }
   ],
   "source": [
    "true_mu1, true_std1, true_mu2, true_std2 = .3, 0, .4, 0\n",
    "observation = simulator([true_mu1, true_mu2])\n",
    "observation"
   ]
  },
  {
   "cell_type": "code",
   "execution_count": null,
   "id": "ae1d3f2a",
   "metadata": {
    "scrolled": false
   },
   "outputs": [
    {
     "data": {
      "application/vnd.jupyter.widget-view+json": {
       "model_id": "f07460e569074943b5c44c8eeba31503",
       "version_major": 2,
       "version_minor": 0
      },
      "text/plain": [
       "Running 100 simulations in 100 batches.:   0%|          | 0/100 [00:00<?, ?it/s]"
      ]
     },
     "metadata": {},
     "output_type": "display_data"
    }
   ],
   "source": [
    "prior = utils.BoxUniform(low=[0]*2, high=[1]*2)\n",
    "posteriors = []\n",
    "proposal = prior\n",
    "num_simulations = [100, 100, 100]\n",
    "\n",
    "sbi_simulator, prior = prepare_for_sbi(simulator, prior)\n",
    "inference = SNPE(prior=prior)\n",
    "\n",
    "for number in num_simulations:\n",
    "    theta, x = simulate_for_sbi(sbi_simulator, proposal, \n",
    "                                num_simulations=number, \n",
    "                                num_workers=8,\n",
    "                                simulation_batch_size=1)\n",
    "    density_estimator = inference.append_simulations(theta, x, \n",
    "                                                     proposal=proposal\n",
    "                                                    ).train()\n",
    "    method = 'rejection'\n",
    "    posterior = inference.build_posterior(density_estimator,\n",
    "#                                          sample_with=method,\n",
    "#                                          vi_parameters=None,\n",
    "#                                          mcmc_parameters={'num_workers':6, 'thin':5}\n",
    "                                         )\n",
    "    \n",
    "    if method=='vi':\n",
    "        posterior.set_default_x(observation)\n",
    "        posterior.train()\n",
    "\n",
    "    posteriors.append(posterior)\n",
    "    proposal = posterior.set_default_x(observation)"
   ]
  },
  {
   "cell_type": "code",
   "execution_count": null,
   "id": "cb9c50c6",
   "metadata": {
    "scrolled": false
   },
   "outputs": [],
   "source": [
    "import seaborn as sns\n",
    "import matplotlib as mpl\n",
    "\n",
    "sns.set(style=\"whitegrid\", font_scale=1.3)\n",
    "plt.style.use('paper.mplstyle.txt')\n",
    "mpl.rc('image', cmap='viridis')\n",
    "\n",
    "names = ['Tolerance']#, 'Stdev.']\n",
    "\n",
    "calibration_dict = {'Tolerance':{'names':['Tolerance' + '-' + str(i) for i in range(2)],\n",
    "                                       'limits':[[0,1],[0,1]],\n",
    "                                       'true':[true_mu1, true_mu2]\n",
    "                                        },\n",
    "#                    'Stdev.':{'names':['Stdev.' + '-' + str(i) for i in range(2)],\n",
    "#                                        'limits':[[0,1],[0,1]],\n",
    "#                                        'true':[true_std1, true_std2]\n",
    "#                                         },\n",
    "                   }\n",
    "\n",
    "\n",
    "for i, posterior in enumerate(posteriors):\n",
    "    \n",
    "    samples = posterior.sample((10000,), x=observation)\n",
    "    log_probability = posterior.log_prob(samples, x=observation)\n",
    "    \n",
    "    labels, limits, true_values = [], [], []\n",
    "    for name in names:\n",
    "        labels += calibration_dict[name]['names']\n",
    "        limits += calibration_dict[name]['limits']\n",
    "\n",
    "        \n",
    "    for j, name in enumerate(names):\n",
    "        \n",
    "        true_values = [[0]*j*2 + calibration_dict[name]['true']]\n",
    "\n",
    "        fig, axes = analysis.pairplot(\n",
    "            samples,\n",
    "            subset=[k for k in range(j*2,j*2+2)],\n",
    "            limits=limits,\n",
    "            figsize=(16, 16),\n",
    "            points=true_values,\n",
    "            points_offdiag={\"markersize\": 10},\n",
    "            points_colors=['red']*20,\n",
    "            labels=labels,\n",
    "        )\n",
    "        fig.suptitle('SNPE - ' + str(num_simulations[i]) + ' samples - round ' + str(i+1))"
   ]
  },
  {
   "cell_type": "code",
   "execution_count": null,
   "id": "d20fed55",
   "metadata": {},
   "outputs": [],
   "source": []
  }
 ],
 "metadata": {
  "kernelspec": {
   "display_name": "Python 3 (ipykernel)",
   "language": "python",
   "name": "python3"
  },
  "language_info": {
   "codemirror_mode": {
    "name": "ipython",
    "version": 3
   },
   "file_extension": ".py",
   "mimetype": "text/x-python",
   "name": "python",
   "nbconvert_exporter": "python",
   "pygments_lexer": "ipython3",
   "version": "3.9.0"
  }
 },
 "nbformat": 4,
 "nbformat_minor": 5
}
